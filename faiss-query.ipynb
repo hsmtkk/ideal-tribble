{
 "cells": [
  {
   "cell_type": "code",
   "execution_count": 1,
   "id": "3e6d311c-78dc-4485-bac4-928fb692f648",
   "metadata": {},
   "outputs": [],
   "source": [
    "%load_ext dotenv\n",
    "%dotenv"
   ]
  },
  {
   "cell_type": "code",
   "execution_count": 2,
   "id": "a286bba6-5fc2-4951-93bf-f8f40ef45516",
   "metadata": {},
   "outputs": [],
   "source": [
    "from langchain_community.vectorstores.faiss import FAISS\n",
    "from langchain_openai import OpenAIEmbeddings\n",
    "from langchain.chains.retrieval_qa.base import RetrievalQA\n",
    "from langchain_openai import OpenAI"
   ]
  },
  {
   "cell_type": "code",
   "execution_count": 3,
   "id": "f151baca-e36f-484f-abd8-397a802fc416",
   "metadata": {},
   "outputs": [],
   "source": [
    "embeddings = OpenAIEmbeddings()"
   ]
  },
  {
   "cell_type": "code",
   "execution_count": 4,
   "id": "8ddf19b2-54ae-435f-a67d-eb239ec40a3d",
   "metadata": {},
   "outputs": [
    {
     "data": {
      "text/plain": [
       "<langchain_community.vectorstores.faiss.FAISS at 0x21a10baaa10>"
      ]
     },
     "execution_count": 4,
     "metadata": {},
     "output_type": "execute_result"
    }
   ],
   "source": [
    "faiss = FAISS.load_local(\"faiss\", embeddings=embeddings, allow_dangerous_deserialization=True)\n",
    "faiss"
   ]
  },
  {
   "cell_type": "code",
   "execution_count": 5,
   "id": "08649441-00f7-4ea7-a954-92c3faacb9a2",
   "metadata": {},
   "outputs": [
    {
     "data": {
      "text/plain": [
       "VectorStoreRetriever(tags=['FAISS', 'OpenAIEmbeddings'], vectorstore=<langchain_community.vectorstores.faiss.FAISS object at 0x0000021A10BAAA10>)"
      ]
     },
     "execution_count": 5,
     "metadata": {},
     "output_type": "execute_result"
    }
   ],
   "source": [
    "retriever = faiss.as_retriever()\n",
    "retriever"
   ]
  },
  {
   "cell_type": "code",
   "execution_count": 6,
   "id": "ff4aeffb-dfe9-4956-8363-66971ce7827f",
   "metadata": {},
   "outputs": [
    {
     "data": {
      "text/plain": [
       "[Document(page_content='・収益率は基準価額で計算\\n・2018年は設定日から年末までの、 2023年は年初から10月31日までの収益率を表示\\n・2017年以前はベンチマークの年間収益率を表示\\n上記は、 過去の実績であり、 将来の投資成果を保証するものではありません。\\nベンチマークはあくまで参考情報であり、 ファン ドの運用実績ではありません。\\n運用状況等は、 委託会社のホームページ等で開示している場合があります。■主要な資産の状況\\n組入上位銘柄 業種 国・地 域 比率\\n1 APPLE INC テクノロジー ・ ハー ドウェアおよび機器 アメリカ 4.5％\\n2 MICROSOFT CORP ソ フト ウ ェ ア・サ ー ビ ス アメリカ 4.0％\\n3 AMAZON.COM INC 一般消費財 ・ サービス流通 ・ 小売り アメリカ 2.1％\\n4 NVIDIA CORP 半導体 ・ 半導体製造装置 アメリカ 1.7％\\n5 ALPHABET INC-CL A メ デ ィ ア・娯 楽 アメリカ 1.5％\\n6META PLATFORMS INC-CLASS A メ デ ィ ア・娯 楽 アメリカ 1.1％', metadata={'source': 'doc/sample.pdf', 'page': 8}),\n",
       " Document(page_content='基準価額 （分配金再投資） （左目盛） \\u3000ファンドの年間騰落率 （右目盛）（％）\\n‒100‒80‒60‒40‒20020406080100\\nファンド42.159.8 62.7\\n5.4 7.921.5\\n‒16.0 ‒12.4‒19.4‒5.5 ‒6.1 ‒8.87.215.26.3‒0.63.1 3.9\\n日本株 先進国株 新興国株 日本国債 先進国債 新興国債56.5\\n‒12.212.9\\n最小値最大値\\n平均値\\n（注） 全ての資産クラスがファン ドの投資対象とは限りません。\\n・基準価額 （分配金再投資） は分配金 （税引前） を分配時に再投資したものと して計算しており、 実際の基準価額とは異なる場合があります。\\n・年間騰落率とは、 各月末における直近 １ 年間の騰落率をいいます。\\n・ファン ドの年間騰落率は、 税引前の分配金を再投資したものとみなして計算した年間騰落率が記載されており、 実際の基準価額に基づいて計算した\\n年間騰落率とは異なる場合があります。\\nベンチマークの年間騰落率は参考情報であり、 ファン ドの運用実績ではありません。', metadata={'source': 'doc/sample.pdf', 'page': 7}),\n",
       " Document(page_content='繰上償還以下の場合等には、 信託期間を繰上げて償還となることがあります。\\n・ 受益権の口数が10億口を下回ることとなった場合・ 対象インデッ クスが改廃されたとき・ ファン ドを償還させることが受益者のため有利であると認めるとき・ やむを得ない事情が発生したとき\\n決算日 毎年 ４ 月25日 （休業日の場合は翌営業日）\\n収益分配年 １ 回の決算時に分配金額を決定します。 （分配金額の決定にあたっては、 信託財産の成長を優先し、 原則と して分配を抑制する方針と します。 ）販売会社との契約によっては、 収益分配金の再投資が可能です。\\n信託金の限度額 ５兆 円\\n公告原則と して、 電子公告の方法により行い、 ホームページ （https://www.am.mufg.jp/）\\nに掲載します。\\n運用報告書毎決算後および償還後に交付運用報告書が作成され、 販売会社を通じて知れている受益者に交付されます。\\n課税関係課税上は、 株式投資信託と して取扱われます。公募株式投資信託は税法上、 一定の要件を満たした場合に 「Ｎ Ｉ Ｓ Ａ （少額投資非課税制度） 」 の適用対象となります。', metadata={'source': 'doc/sample.pdf', 'page': 9}),\n",
       " Document(page_content='8\\n運用実績2023年10月31日現在\\n■基準価額 ・ 純資産の推移 2018年10月31日 （設定日） ～2023年10月31日\\n（円）\\n6,0008,00010,00012,00014,00016,00018,00020,00022,000（億円）\\n05,00010,00015,00020,00025,00030,00035,00040,000\\n’ 18/10 ’ 19/10 ’ 20/10 ’ 21/10 ’ 22/10 ’ 23/10\\n純資産総額 【右目盛】 基準価額 【左目盛】\\n・基準価額は10,000を起点と して表示\\n・基準価額は運用報酬 （信託報酬） 控除後です。■基準価額 ・ 純資産\\n基準価額 19,168円\\n純資産総額 15,006億円\\n・純資産総額は表示桁未満切捨て\\n■年間収益率の推移\\n‒7.526.8\\n9.032.7\\n‒5.619.649.2\\n21.1\\n‒2.22.920.3（％）\\n‒100‒75‒50‒250255075100\\n’ 13 ’ 14 ’ 15 ’ 16 ’ 17 ’ 18 ’ 19 ’ 20 ’ 21 ’ 22 ’ 23ベンチマーク ファンド', metadata={'source': 'doc/sample.pdf', 'page': 8})]"
      ]
     },
     "execution_count": 6,
     "metadata": {},
     "output_type": "execute_result"
    }
   ],
   "source": [
    "retriever.get_relevant_documents(\"運用利回り\")"
   ]
  },
  {
   "cell_type": "code",
   "execution_count": 7,
   "id": "12b5af7a-8c9c-45f5-9ca2-5f6d153349f5",
   "metadata": {},
   "outputs": [],
   "source": [
    "qa = RetrievalQA.from_llm(llm=OpenAI(), retriever=retriever)"
   ]
  },
  {
   "cell_type": "code",
   "execution_count": 8,
   "id": "e4c4705d-3875-46d6-afe2-cac9b4523bc4",
   "metadata": {},
   "outputs": [
    {
     "data": {
      "text/plain": [
       "{'query': 'What is this document?',\n",
       " 'result': ' This document is a prospectus for the \"eMAXIS Slim Global Equity (All Country)\" fund, which is being offered for sale.'}"
      ]
     },
     "execution_count": 8,
     "metadata": {},
     "output_type": "execute_result"
    }
   ],
   "source": [
    "qa.invoke(\"What is this document?\")"
   ]
  },
  {
   "cell_type": "code",
   "execution_count": null,
   "id": "98d3883a-993a-47d2-a6b0-c0c3a3d9412e",
   "metadata": {},
   "outputs": [],
   "source": []
  }
 ],
 "metadata": {
  "kernelspec": {
   "display_name": "Python 3 (ipykernel)",
   "language": "python",
   "name": "python3"
  },
  "language_info": {
   "codemirror_mode": {
    "name": "ipython",
    "version": 3
   },
   "file_extension": ".py",
   "mimetype": "text/x-python",
   "name": "python",
   "nbconvert_exporter": "python",
   "pygments_lexer": "ipython3",
   "version": "3.11.7"
  }
 },
 "nbformat": 4,
 "nbformat_minor": 5
}
