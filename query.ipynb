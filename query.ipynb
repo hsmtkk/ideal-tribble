{
 "cells": [
  {
   "cell_type": "code",
   "execution_count": 1,
   "id": "3e6d311c-78dc-4485-bac4-928fb692f648",
   "metadata": {},
   "outputs": [],
   "source": [
    "%load_ext dotenv\n",
    "%dotenv"
   ]
  },
  {
   "cell_type": "code",
   "execution_count": 2,
   "id": "a286bba6-5fc2-4951-93bf-f8f40ef45516",
   "metadata": {},
   "outputs": [],
   "source": [
    "from langchain_community.vectorstores import Chroma\n",
    "from langchain_openai import OpenAIEmbeddings\n",
    "from langchain.chains.retrieval_qa.base import RetrievalQA\n",
    "from langchain_openai import OpenAI"
   ]
  },
  {
   "cell_type": "code",
   "execution_count": 3,
   "id": "f151baca-e36f-484f-abd8-397a802fc416",
   "metadata": {},
   "outputs": [],
   "source": [
    "embeddings = OpenAIEmbeddings()"
   ]
  },
  {
   "cell_type": "code",
   "execution_count": 4,
   "id": "8ddf19b2-54ae-435f-a67d-eb239ec40a3d",
   "metadata": {},
   "outputs": [
    {
     "data": {
      "text/plain": [
       "<langchain_community.vectorstores.chroma.Chroma at 0x203c90fd010>"
      ]
     },
     "execution_count": 4,
     "metadata": {},
     "output_type": "execute_result"
    }
   ],
   "source": [
    "chroma = Chroma(persist_directory=\"vector\", embedding_function=embeddings)\n",
    "chroma"
   ]
  },
  {
   "cell_type": "code",
   "execution_count": 5,
   "id": "08649441-00f7-4ea7-a954-92c3faacb9a2",
   "metadata": {},
   "outputs": [
    {
     "data": {
      "text/plain": [
       "VectorStoreRetriever(tags=['Chroma', 'OpenAIEmbeddings'], vectorstore=<langchain_community.vectorstores.chroma.Chroma object at 0x00000203C90FD010>)"
      ]
     },
     "execution_count": 5,
     "metadata": {},
     "output_type": "execute_result"
    }
   ],
   "source": [
    "retriever = chroma.as_retriever()\n",
    "retriever"
   ]
  },
  {
   "cell_type": "code",
   "execution_count": 6,
   "id": "ff4aeffb-dfe9-4956-8363-66971ce7827f",
   "metadata": {},
   "outputs": [
    {
     "data": {
      "text/plain": [
       "[Document(page_content='運用管理費用\\n\\n1兆円以上の部分\\n\\n0.05753％ 0.0523％ 0.0173％ 0.0175％ 0.0175％\\n\\n（信託報酬）\\n\\n※上記各支払先への配分には、別途消費税等相当額がかかります。\\n\\n（ご参考：上記信託報酬率を用いて計算したファンドの純資産総額ごとの実質信託報酬率の例）\\n\\nファンドの純資産総額\\n\\n１兆1,000億円 １兆6,000億円 ２兆1,000億円\\n\\n実質信託報酬率（税込 年率）\\n\\n0.05768%\\n\\n0.05764%\\n\\n0.05761%\\n\\n＜各支払先が運用管理費用（信託報酬）の対価として提供する役務の内容＞\\n\\n支払先\\n\\n対価として提供する役務の内容\\n\\n委託会社 ファンドの運用・調査、受託会社への運用指図、基準価額の算出、目論見書等の作成等\\n\\n販売会社 交付運用報告書等各種書類の送付、顧客口座の管理、購入後の情報提供等\\n\\n受託会社 ファンドの財産の保管および管理、委託会社からの運用指図の実行等\\n\\nその他の費用・ 手数料', metadata={'source': 'doc/sample.pdf'}),\n",
       " Document(page_content='※確定拠出年金法に定める加入者等の運用の指図に基づいて購入の申込みを行う資産管理機関および国民年金基金連合会等 の場合、所得税および地方税がかかりません。なお、確定拠出年金制度の加入者については、確定拠出年金の積立金の運用に かかる税制が適用されます。\\n\\n※分配時において、外国税額控除の適用となった場合には、分配時の税金が上記と異なる場合があります。 ※法人の場合は上記とは異なります。 ※税法が改正された場合等には、税率等が変更される場合があります。税金の取扱いの詳細については、税務専門家等に確認さ\\n\\nれることをお勧めします。\\n\\n（参考情報）ファンドの総経費率\\n\\n直近の運用報告書作成対象期間（以下「当期間」といいます。）（2022年４月26日～2023年４月25日）における 当ファンドの総経費率は以下の通りです。\\n\\n総経費率（①＋②）\\n\\n①運用管理費用の比率\\n\\n②その他費用の比率\\n\\n0.15％\\n\\n0.11％\\n\\n0.03％\\n\\n（比率は年率、表示桁数未満四捨五入）\\n\\n※上記の詳細な総経費率は以下の通りです。', metadata={'source': 'doc/sample.pdf'}),\n",
       " Document(page_content='・基準価額（分配金再投資）は分配金（税引前）を分配時に再投資したものとして計算しており、実際の基準価額とは異なる場合があります。 ・年間騰落率とは、各月末における直近１年間の騰落率をいいます。 ・ファンドの年間騰落率は、税引前の分配金を再投資したものとみなして計算した年間騰落率が記載されており、実際の基準価額に基づいて計算した\\n\\n年間騰落率とは異なる場合があります。\\n\\nベンチマークの年間騰落率は参考情報であり、ファンドの運用実績ではありません。 上記は、過去の実績であり、将来の投資成果を保証するものではありません。\\n\\n代表的な資産クラスの指数について\\n\\n資産クラス 指数名\\n\\n注記等\\n\\n日本株\\n\\n東証株価指数（ＴＯＰＩＸ）\\n\\n（配当込み）\\n\\n東証株価指数（ＴＯＰＩＸ）（配当込み）とは、日本の株式市場を広範に網羅するとともに、 投資対象としての機能性を有するマーケット・ベンチマークで、浮動株ベースの時価総額 加重方式により算出される株価指数です。ＴＯＰＩＸの指数値及びＴＯＰＩＸに係る標章又は 商標は、株式会社JPX総研又は株式会社JPX総研の関連会社（以下「JPX」という。）の知的 財産であり、指数の算出、指数値の公表、利用などＴＯＰＩＸに関するすべての権利・ノウハウ 及びＴＯＰＩＸに係る標章又は商標に関するすべての権利はJPXが有します。\\n\\n先進国株\\n\\nMSCIコクサイ・インデックス\\n\\n（配当込み）\\n\\nMSCIコクサイ・インデックス（配当込み）とは、MSCI Inc.が開発した株価指数で、日本 を除く世界の先進国で構成されています。また、MSCIコクサイ・インデックスに対する 著作権及びその他知的財産権はすべてMSCI Inc.に帰属します。\\n\\n新興国株\\n\\nMSCIエマージング・マーケット・ インデックス（配当込み）\\n\\nＭＳＣＩエマージング・マーケット・インデックス（配当込み）とは、MSCI Inc.が開発した 株価指数で、世界の新興国で構成されています。また、ＭＳＣＩエマージング・マーケット・ インデックスに対する著作権及びその他知的財産権はすべてMSCI Inc.に帰属します。\\n\\n日本国債\\n\\nNOMURA-BPI（国債）', metadata={'source': 'doc/sample.pdf'}),\n",
       " Document(page_content='配当所得として課税 普通分配金に対して20.315％\\n\\n換金（解約）時および償還時\\n\\n所得税および地方税\\n\\n譲渡所得として課税 換金（解約）時および償還時の差益（譲渡益）に対して20.315％\\n\\n※上記は2023年10月末現在のものです。 ※「ＮＩＳＡ（少額投資非課税制度）」をご利用の場合\\n\\nＮＩＳＡは、少額上場株式等に関する非課税制度であり、一定の額を上限として、毎年、一定額の範囲で新たに購入した公募株式投 資信託などから生じる配当所得および譲渡所得が無期限で非課税となります。ご利用になれるのは、販売会社で非課税口座を 開設し、税法上の要件を満たした商品を購入するなど、一定の条件に該当する方が対象となります。くわしくは、販売会社にお問 合わせください。\\n\\n※確定拠出年金法に定める加入者等の運用の指図に基づいて購入の申込みを行う資産管理機関および国民年金基金連合会等 の場合、所得税および地方税がかかりません。なお、確定拠出年金制度の加入者については、確定拠出年金の積立金の運用に かかる税制が適用されます。\\n\\n※分配時において、外国税額控除の適用となった場合には、分配時の税金が上記と異なる場合があります。 ※法人の場合は上記とは異なります。 ※税法が改正された場合等には、税率等が変更される場合があります。税金の取扱いの詳細については、税務専門家等に確認さ\\n\\nれることをお勧めします。\\n\\n（参考情報）ファンドの総経費率\\n\\n直近の運用報告書作成対象期間（以下「当期間」といいます。）（2022年４月26日～2023年４月25日）における 当ファンドの総経費率は以下の通りです。\\n\\n総経費率（①＋②）\\n\\n①運用管理費用の比率\\n\\n②その他費用の比率\\n\\n0.15％\\n\\n0.11％\\n\\n0.03％\\n\\n（比率は年率、表示桁数未満四捨五入）\\n\\n※上記の詳細な総経費率は以下の通りです。\\n\\n0.14528％ 〔内訳①運用管理費用：0.11335％、②その他費用：0.03193％〕 （表示桁数未満四捨五入）\\n\\n※当期間後に信託報酬率の変更を行っています。 ※当期間の運用・管理にかかった費用の総額（原則として購入時手数料、売買委託手数料および有価証券取引税を除く。消費税等\\n\\nのかかるものは消費税等を含む。）を当期間の平均受益権口数に平均基準価額（１口当たり）を乗じた数で除しています。', metadata={'source': 'doc/sample.pdf'})]"
      ]
     },
     "execution_count": 6,
     "metadata": {},
     "output_type": "execute_result"
    }
   ],
   "source": [
    "retriever.get_relevant_documents(\"運用利回り\")"
   ]
  },
  {
   "cell_type": "code",
   "execution_count": 7,
   "id": "12b5af7a-8c9c-45f5-9ca2-5f6d153349f5",
   "metadata": {},
   "outputs": [],
   "source": [
    "qa = RetrievalQA.from_llm(llm=OpenAI(), retriever=retriever)"
   ]
  },
  {
   "cell_type": "code",
   "execution_count": 8,
   "id": "e4c4705d-3875-46d6-afe2-cac9b4523bc4",
   "metadata": {},
   "outputs": [
    {
     "data": {
      "text/plain": [
       "{'query': 'What is this document?',\n",
       " 'result': '\\nThis document is the prospectus for the \"eMAXIS Slim Global Equity (All-Country)\" fund, which includes information about the fund\\'s purpose, characteristics, and investment strategies. It also mentions that more detailed information can be found on the website of the trust company managing the fund.'}"
      ]
     },
     "execution_count": 8,
     "metadata": {},
     "output_type": "execute_result"
    }
   ],
   "source": [
    "qa.invoke(\"What is this document?\")"
   ]
  },
  {
   "cell_type": "code",
   "execution_count": null,
   "id": "98d3883a-993a-47d2-a6b0-c0c3a3d9412e",
   "metadata": {},
   "outputs": [],
   "source": []
  }
 ],
 "metadata": {
  "kernelspec": {
   "display_name": "Python 3 (ipykernel)",
   "language": "python",
   "name": "python3"
  },
  "language_info": {
   "codemirror_mode": {
    "name": "ipython",
    "version": 3
   },
   "file_extension": ".py",
   "mimetype": "text/x-python",
   "name": "python",
   "nbconvert_exporter": "python",
   "pygments_lexer": "ipython3",
   "version": "3.11.7"
  }
 },
 "nbformat": 4,
 "nbformat_minor": 5
}
